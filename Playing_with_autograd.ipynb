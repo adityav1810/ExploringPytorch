{
  "nbformat": 4,
  "nbformat_minor": 0,
  "metadata": {
    "colab": {
      "provenance": [],
      "gpuType": "T4",
      "authorship_tag": "ABX9TyMwbm4Q1uvyby7rCdjdscJn",
      "include_colab_link": true
    },
    "kernelspec": {
      "name": "python3",
      "display_name": "Python 3"
    },
    "language_info": {
      "name": "python"
    },
    "accelerator": "GPU"
  },
  "cells": [
    {
      "cell_type": "markdown",
      "metadata": {
        "id": "view-in-github",
        "colab_type": "text"
      },
      "source": [
        "<a href=\"https://colab.research.google.com/github/adityav1810/ExploringPytorch/blob/main/Playing_with_autograd.ipynb\" target=\"_parent\"><img src=\"https://colab.research.google.com/assets/colab-badge.svg\" alt=\"Open In Colab\"/></a>"
      ]
    },
    {
      "cell_type": "code",
      "execution_count": 28,
      "metadata": {
        "colab": {
          "base_uri": "https://localhost:8080/"
        },
        "id": "NFKlt4WkO7ug",
        "outputId": "96058eff-b913-4895-db9d-6727256dc470"
      },
      "outputs": [
        {
          "output_type": "stream",
          "name": "stdout",
          "text": [
            "Using device: cuda\n",
            "\n"
          ]
        }
      ],
      "source": [
        "import torch\n",
        "device = torch.device('cuda' if torch.cuda.is_available() else 'cpu')\n",
        "print('Using device:', device)\n",
        "print()\n"
      ]
    },
    {
      "cell_type": "code",
      "source": [
        "x = torch.tensor([5.],requires_grad = True)\n",
        "w = torch.tensor([2.],requires_grad=True)"
      ],
      "metadata": {
        "id": "Yf_Aswa5PXRF"
      },
      "execution_count": 29,
      "outputs": []
    },
    {
      "cell_type": "code",
      "source": [
        "'''\n",
        "x = 5\n",
        "w = 2\n",
        "\n",
        "y = wx^2\n",
        "dy/dx = 2 wx => ( 2.2.5 )=> 20\n",
        "dy / dw = x^2 => (5^2) => 25\n",
        "'''\n",
        "def f(w,x):\n",
        "  return w * (x**2)\n",
        "y = f(w,x)\n",
        "y.backward()\n"
      ],
      "metadata": {
        "id": "UFseoa6RPR-_"
      },
      "execution_count": 30,
      "outputs": []
    },
    {
      "cell_type": "code",
      "source": [
        "'''\n",
        "Computes dy/dw ie\n",
        "'''\n",
        "print(\"Gradient of Y w.rt. W \",w.grad)"
      ],
      "metadata": {
        "id": "NssXXg5ZSDJV",
        "colab": {
          "base_uri": "https://localhost:8080/"
        },
        "outputId": "a6008d6a-bf95-4d98-c5b6-c34164cf7f64"
      },
      "execution_count": 31,
      "outputs": [
        {
          "output_type": "stream",
          "name": "stdout",
          "text": [
            "Gradient of Y w.rt. W  tensor([25.])\n"
          ]
        }
      ]
    },
    {
      "cell_type": "code",
      "source": [
        "'''\n",
        "Computes dy/dx ie\n",
        "'''\n",
        "print(\"Gradient of Y w.rt. X \",x.grad)"
      ],
      "metadata": {
        "colab": {
          "base_uri": "https://localhost:8080/"
        },
        "id": "AIMEQymQt_3R",
        "outputId": "09b20945-32c7-450e-f044-5b663ca7f73a"
      },
      "execution_count": 32,
      "outputs": [
        {
          "output_type": "stream",
          "name": "stdout",
          "text": [
            "Gradient of Y w.rt. X  tensor([20.])\n"
          ]
        }
      ]
    },
    {
      "cell_type": "code",
      "source": [
        "def neuron(w,x,b):\n",
        "  return torch.add(torch.matmul(w,x),b)\n",
        "w = torch.tensor([3.,4.,3.],requires_grad = True)\n",
        "x = torch.tensor([7.,1.,2.],requires_grad = True)\n",
        "b = torch.tensor([1.,1.,1.],requires_grad = True)\n",
        "n = neuron(w,x,b)\n"
      ],
      "metadata": {
        "id": "iwt1hS5QuafF"
      },
      "execution_count": 33,
      "outputs": []
    },
    {
      "cell_type": "code",
      "source": [
        "n.sum().backward()"
      ],
      "metadata": {
        "id": "0g2B0zDOw21E"
      },
      "execution_count": 35,
      "outputs": []
    },
    {
      "cell_type": "code",
      "source": [
        "w.grad,x.grad,b.grad"
      ],
      "metadata": {
        "colab": {
          "base_uri": "https://localhost:8080/"
        },
        "id": "sPoF1EbVxbpY",
        "outputId": "ea8f3a3c-32a9-451e-eced-8446f0e88f79"
      },
      "execution_count": 38,
      "outputs": [
        {
          "output_type": "execute_result",
          "data": {
            "text/plain": [
              "(tensor([21.,  3.,  6.]), tensor([ 9., 12.,  9.]), tensor([1., 1., 1.]))"
            ]
          },
          "metadata": {},
          "execution_count": 38
        }
      ]
    },
    {
      "cell_type": "code",
      "source": [
        "n"
      ],
      "metadata": {
        "colab": {
          "base_uri": "https://localhost:8080/"
        },
        "id": "yXjaj_5B0ArG",
        "outputId": "22073e97-77e5-46be-b1d2-96cc9d71aa67"
      },
      "execution_count": 37,
      "outputs": [
        {
          "output_type": "execute_result",
          "data": {
            "text/plain": [
              "tensor([32., 32., 32.], grad_fn=<AddBackward0>)"
            ]
          },
          "metadata": {},
          "execution_count": 37
        }
      ]
    },
    {
      "cell_type": "code",
      "source": [],
      "metadata": {
        "id": "W5ZVrHo-0CYs"
      },
      "execution_count": null,
      "outputs": []
    }
  ]
}